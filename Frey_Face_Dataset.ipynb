{
 "cells": [
  {
   "cell_type": "raw",
   "id": "4cf2d748-146c-480d-b220-bfe75dddd9bf",
   "metadata": {},
   "source": [
    "https://debuggercafe.com/face-image-generation-using-convolutional-variational-autoencoder-and-pytorch/"
   ]
  },
  {
   "cell_type": "code",
   "execution_count": 1,
   "id": "ea1fd50f-38d5-457a-a849-90efe49b78a8",
   "metadata": {},
   "outputs": [],
   "source": [
    "import torch\n",
    "import torch.nn as nn\n",
    "import torch.nn.functional as F"
   ]
  },
  {
   "cell_type": "code",
   "execution_count": 2,
   "id": "a325fe30-831f-4196-a6f3-a2bbc9d36ab2",
   "metadata": {},
   "outputs": [],
   "source": [
    "kernel_size = 4\n",
    "stride = 1\n",
    "padding = 0\n",
    "init_kernel = 16 # initial number of filters"
   ]
  },
  {
   "cell_type": "code",
   "execution_count": 146,
   "id": "369df01e-cf9a-4293-8ccb-8cb9184d1acc",
   "metadata": {},
   "outputs": [],
   "source": [
    "class ConvVAE(nn.Module):\n",
    "    def __init__(self):\n",
    "        super(ConvVAE, self).__init__()\n",
    " \n",
    "        # encoder\n",
    "        self.enc1 = nn.Conv2d(\n",
    "            in_channels=1, out_channels=init_kernel, kernel_size=kernel_size, \n",
    "            stride=stride, padding=padding\n",
    "        )\n",
    "        self.enc2 = nn.Conv2d(\n",
    "            in_channels=init_kernel, out_channels=init_kernel*2, kernel_size=kernel_size, \n",
    "            stride=stride, padding=padding\n",
    "        )\n",
    "        self.enc3 = nn.Conv2d(\n",
    "            in_channels=init_kernel*2, out_channels=init_kernel*4, kernel_size=kernel_size, \n",
    "            stride=stride, padding=padding\n",
    "        )\n",
    "        self.enc4 = nn.Conv2d(\n",
    "            in_channels=init_kernel*4, out_channels=init_kernel*8, kernel_size=kernel_size, \n",
    "            stride=stride, padding=padding\n",
    "        )\n",
    "        self.enc_mean = nn.Conv2d(\n",
    "            in_channels=init_kernel*8, out_channels=1, kernel_size=kernel_size, \n",
    "            stride=stride, padding=padding\n",
    "        )\n",
    "\n",
    "        self.enc_log_var = nn.Conv2d(\n",
    "            in_channels=init_kernel*8, out_channels=1, kernel_size=kernel_size , \n",
    "            stride=stride, padding=padding\n",
    "        )\n",
    "        # decoder \n",
    "        self.dec1 = nn.ConvTranspose2d(\n",
    "            in_channels=1, out_channels=init_kernel*8, kernel_size=kernel_size, \n",
    "            stride=stride, padding=padding\n",
    "        )\n",
    "        self.dec2 = nn.ConvTranspose2d(\n",
    "            in_channels=init_kernel*8, out_channels=init_kernel*4, kernel_size=kernel_size, \n",
    "            stride=stride, padding=padding\n",
    "        )\n",
    "        self.dec3 = nn.ConvTranspose2d(\n",
    "            in_channels=init_kernel*4, out_channels=init_kernel*2, kernel_size=kernel_size, \n",
    "            stride=stride, padding=padding\n",
    "        )\n",
    "        self.dec4 = nn.ConvTranspose2d(\n",
    "            in_channels=init_kernel*2, out_channels=init_kernel, kernel_size=kernel_size, \n",
    "            stride=stride, padding=padding\n",
    "        )\n",
    "        self.dec5 = nn.ConvTranspose2d(\n",
    "            in_channels=init_kernel, out_channels=1, kernel_size=kernel_size, \n",
    "            stride=stride, padding=padding\n",
    "        )\n",
    "    def reparameterize(self, mu, log_var):\n",
    "        \"\"\"\n",
    "        :param mu: mean from the encoder's latent space\n",
    "        :param log_var: log variance from the encoder's latent space\n",
    "        \"\"\"\n",
    "        std = torch.exp(0.5*log_var) # standard deviation\n",
    "        eps = torch.randn_like(std) # `randn_like` as we need the same size\n",
    "        sample = mu + (eps * std) # sampling\n",
    "        return sample\n",
    " \n",
    "    def forward(self, x):\n",
    "        # encoding\n",
    "        x = F.relu(self.enc1(x))\n",
    "        x = F.relu(self.enc2(x))\n",
    "        x = F.relu(self.enc3(x))\n",
    "        x = F.relu(self.enc4(x))\n",
    "        mu = self.enc_mean(x)\n",
    "        log_var = self.enc_log_var(x)\n",
    "        # get `mu` and `log_var`\n",
    "        \n",
    "        # get the latent vector through reparameterization\n",
    "        z = self.reparameterize(mu, log_var)\n",
    " \n",
    "        # decoding\n",
    "        x = F.relu(self.dec1(z))\n",
    "        x = F.relu(self.dec2(x))\n",
    "        x = F.relu(self.dec3(x))\n",
    "        x = F.relu(self.dec4(x))\n",
    "        reconstruction = torch.sigmoid(self.dec5(x))\n",
    "        return reconstruction, mu, log_var"
   ]
  },
  {
   "cell_type": "markdown",
   "id": "0fa6da78-3bbd-4c5f-bb5b-37a577c54fd6",
   "metadata": {},
   "source": [
    "Dans le modèle initial proposé sur le site, mu et log_var prennaient la même valeur. On a réglé ce problème en duplicant la dernière couche de convolution à l'aller. Cependant, le mu et le log_var ainsi codés restent des matrices 2D. Ce qui n'a pas beaucoup de sens vis à vis de notre présentation. L'auteur défend son choix  à la fin de son blog.  Il est préférable de se baser sur notre NoteBook sur MMINST. "
   ]
  },
  {
   "cell_type": "markdown",
   "id": "a906f6ec-a2fa-416d-a65c-7424df75a2fa",
   "metadata": {},
   "source": [
    "# Notre modèle"
   ]
  },
  {
   "cell_type": "code",
   "execution_count": 97,
   "id": "3a42db27-f66e-45a9-acf1-a5ba682aedf9",
   "metadata": {},
   "outputs": [
    {
     "data": {
      "text/plain": [
       "ConvVAE(\n",
       "  (enc1): Conv2d(1, 16, kernel_size=(4, 4), stride=(1, 1))\n",
       "  (enc2): Conv2d(16, 32, kernel_size=(4, 4), stride=(1, 1))\n",
       "  (enc3): Conv2d(32, 64, kernel_size=(4, 4), stride=(1, 1))\n",
       "  (enc4): Conv2d(64, 128, kernel_size=(4, 4), stride=(1, 1))\n",
       "  (enc5): Conv2d(128, 16, kernel_size=(4, 4), stride=(1, 1))\n",
       "  (dec1): ConvTranspose2d(16, 128, kernel_size=(4, 4), stride=(1, 1))\n",
       "  (dec2): ConvTranspose2d(128, 64, kernel_size=(4, 4), stride=(1, 1))\n",
       "  (dec3): ConvTranspose2d(64, 32, kernel_size=(4, 4), stride=(1, 1))\n",
       "  (dec4): ConvTranspose2d(32, 16, kernel_size=(4, 4), stride=(1, 1))\n",
       "  (dec5): ConvTranspose2d(16, 1, kernel_size=(4, 4), stride=(1, 1))\n",
       ")"
      ]
     },
     "execution_count": 97,
     "metadata": {},
     "output_type": "execute_result"
    }
   ],
   "source": [
    "model"
   ]
  },
  {
   "cell_type": "code",
   "execution_count": 5,
   "id": "182e065f-87ad-47eb-b213-86efdec61e2b",
   "metadata": {},
   "outputs": [],
   "source": [
    "import scipy.io\n",
    "import torch\n",
    "import torch.optim as optim\n",
    "import torch.nn as nn\n",
    "\n",
    "from torch.utils.data import DataLoader, Dataset\n",
    "from tqdm import tqdm\n",
    "from torchvision.utils import save_image"
   ]
  },
  {
   "cell_type": "code",
   "execution_count": 36,
   "id": "03487de8-30b6-4cc1-bb1f-50e36a48ee0b",
   "metadata": {},
   "outputs": [
    {
     "name": "stdout",
     "output_type": "stream",
     "text": [
      "Number of instances: 1965\n"
     ]
    }
   ],
   "source": [
    "# get the data into NumPy format\n",
    "mat_data = scipy.io.loadmat('input/frey_rawface.mat')\n",
    "data = mat_data['ff'].T.reshape(-1, 1, 28, 20)\n",
    "data = data.astype('float32') / 255.0\n",
    "print(f\"Number of instances: {len(data)}\")"
   ]
  },
  {
   "cell_type": "code",
   "execution_count": 49,
   "id": "1bc96eaa-e84c-419b-8998-43d8bb31366d",
   "metadata": {},
   "outputs": [
    {
     "name": "stdout",
     "output_type": "stream",
     "text": [
      "(1, 28, 20)\n",
      "(28, 20)\n"
     ]
    },
    {
     "data": {
      "image/png": "[encoded data removed]",
      "text/plain": [
       "<Figure size 640x480 with 10 Axes>"
      ]
     },
     "metadata": {},
     "output_type": "display_data"
    }
   ],
   "source": [
    "import matplotlib.pyplot as plt\n",
    "print(data[0].shape)\n",
    "print(data[0][0].shape)\n",
    "\n",
    "n_diplay = 10 \n",
    "\n",
    "fig, axs = plt.subplots(1, n_diplay)\n",
    "\n",
    "for k in range(n_diplay):\n",
    "    axs[k].imshow(data[k][0],cmap='gray')\n",
    "    axs[k].axis('off')\n"
   ]
  },
  {
   "cell_type": "markdown",
   "id": "9678544b-a5b2-4923-a2ad-72a78383552d",
   "metadata": {},
   "source": [
    "Notre magnifique dataset."
   ]
  },
  {
   "cell_type": "code",
   "execution_count": 10,
   "id": "380ef204-242a-4c23-a8d6-e4c5dd8c7d89",
   "metadata": {},
   "outputs": [
    {
     "name": "stdout",
     "output_type": "stream",
     "text": [
      "Training instances: 1665\n",
      "Validation instances: 300\n"
     ]
    }
   ],
   "source": [
    "# divide the data into train and validation set\n",
    "x_train = data[:-300]\n",
    "x_val = data[-300:]\n",
    "print(f\"Training instances: {len(x_train)}\")\n",
    "print(f\"Validation instances: {len(x_val)}\")"
   ]
  },
  {
   "cell_type": "code",
   "execution_count": 11,
   "id": "8d8334ed-1cb4-48d0-bd67-df2aa172e397",
   "metadata": {},
   "outputs": [],
   "source": [
    "class FreyDataset(Dataset):\n",
    "    def __init__(self, X):\n",
    "        self.X = X\n",
    "    def __len__(self):\n",
    "        return (len(self.X))\n",
    "    def __getitem__(self, index):\n",
    "        data = self.X[index]\n",
    "        return torch.tensor(data, dtype=torch.float)"
   ]
  },
  {
   "cell_type": "code",
   "execution_count": 13,
   "id": "0d6462d8-0eb5-4be6-80de-7ffa6d2a64bc",
   "metadata": {},
   "outputs": [],
   "source": [
    "train_data = FreyDataset(x_train)\n",
    "val_data = FreyDataset(x_val)\n",
    "# iterable data loader\n",
    "train_loader = DataLoader(train_data, batch_size=batch_size)\n",
    "val_loader = DataLoader(val_data, batch_size=batch_size)"
   ]
  },
  {
   "cell_type": "code",
   "execution_count": 106,
   "id": "b5defc90-fb0e-43af-a03d-1a00769b6ff1",
   "metadata": {},
   "outputs": [],
   "source": [
    "def final_loss(bce_loss, mu, logvar):\n",
    "    \"\"\"\n",
    "    This function will add the reconstruction loss (BCELoss) and the \n",
    "    KL-Divergence.\n",
    "    KL-Divergence = 0.5 * sum(1 + log(sigma^2) - mu^2 - sigma^2)\n",
    "    :param bce_loss: recontruction loss\n",
    "    :param mu: the mean from the latent vector\n",
    "    :param logvar: log variance from the latent vector\n",
    "    \"\"\"\n",
    "    BCE = bce_loss \n",
    "    KLD = -0.5 * torch.sum(1 + logvar - mu.pow(2) - logvar.exp())\n",
    "    return BCE + KLD"
   ]
  },
  {
   "cell_type": "markdown",
   "id": "c9703300-ee5c-4f09-998a-59e36a5dbd17",
   "metadata": {},
   "source": [
    "Notre lowerbound (ici à minimiser)."
   ]
  },
  {
   "cell_type": "code",
   "execution_count": 107,
   "id": "f545d865-7687-447f-a488-8793f9684cdd",
   "metadata": {},
   "outputs": [],
   "source": [
    "def fit(model, dataloader):\n",
    "    model.train()\n",
    "    running_loss = 0.0\n",
    "    for i, data in tqdm(enumerate(dataloader), total=int(len(train_data)/dataloader.batch_size)):\n",
    "        data= data\n",
    "        data = data.to(device)\n",
    "        data = data\n",
    "        optimizer.zero_grad()\n",
    "        reconstruction, mu, logvar = model(data)\n",
    "        bce_loss = criterion(reconstruction, data)\n",
    "        loss = final_loss(bce_loss, mu, logvar)\n",
    "        loss.backward()\n",
    "        running_loss += loss.item()\n",
    "        optimizer.step()\n",
    "    train_loss = running_loss/len(dataloader.dataset)\n",
    "    return train_loss"
   ]
  },
  {
   "cell_type": "code",
   "execution_count": 108,
   "id": "06089d8a-cee3-4f01-b6d5-b58621e1bc8c",
   "metadata": {},
   "outputs": [],
   "source": [
    "def validate(model, dataloader):\n",
    "    model.eval()\n",
    "    running_loss = 0.0\n",
    "    with torch.no_grad():\n",
    "        for i, data in tqdm(enumerate(dataloader), total=int(len(val_data)/dataloader.batch_size)):\n",
    "            data= data\n",
    "            data = data.to(device)\n",
    "            data = data\n",
    "            reconstruction, mu, logvar = model(data)\n",
    "            bce_loss = criterion(reconstruction, data)\n",
    "            loss = final_loss(bce_loss, mu, logvar)\n",
    "            running_loss += loss.item()\n",
    "        \n",
    "            # save the last batch input and output of every epoch\n",
    "            if i == int(len(val_data)/dataloader.batch_size) - 1:\n",
    "                num_rows = 8\n",
    "                both = torch.cat((data[:8], \n",
    "                                  reconstruction[:8]))\n",
    "                save_image(both.cpu(), f\"outputs/output{epoch}.png\", nrow=num_rows)\n",
    "    val_loss = running_loss/len(dataloader.dataset)\n",
    "    return val_loss"
   ]
  },
  {
   "cell_type": "code",
   "execution_count": 152,
   "id": "cd3ab379-6932-4d97-8efd-f5a89f7e6ea3",
   "metadata": {},
   "outputs": [],
   "source": [
    "# learning parameters\n",
    "batch_size = 64\n",
    "lr = 0.001\n",
    "epochs = 10\n",
    "device = torch.device('cuda' if torch.cuda.is_available() else 'cpu')"
   ]
  },
  {
   "cell_type": "code",
   "execution_count": 147,
   "id": "ae0863e6-029c-4ac8-90b1-47a558f1fc83",
   "metadata": {},
   "outputs": [],
   "source": [
    "model = ConvVAE().to(device)\n",
    "optimizer = optim.Adam(model.parameters(), lr=lr)\n",
    "criterion = nn.BCELoss(reduction='sum')"
   ]
  },
  {
   "cell_type": "code",
   "execution_count": 148,
   "id": "1df2af1b-4b95-40d4-a5b7-acc706253dd0",
   "metadata": {},
   "outputs": [
    {
     "name": "stdout",
     "output_type": "stream",
     "text": [
      "Epoch 1 of 1\n"
     ]
    },
    {
     "name": "stderr",
     "output_type": "stream",
     "text": [
      "27it [00:11,  2.26it/s]                                                                                                                                                                                                                    \n",
      "5it [00:00,  7.11it/s]                                                                                                                                                                                                                     "
     ]
    },
    {
     "name": "stdout",
     "output_type": "stream",
     "text": [
      "Train Loss: 379.2794\n",
      "Val Loss: 366.4303\n"
     ]
    },
    {
     "name": "stderr",
     "output_type": "stream",
     "text": [
      "\n"
     ]
    }
   ],
   "source": [
    "train_loss = []\n",
    "val_loss = []\n",
    "for epoch in range(epochs):\n",
    "    print(f\"Epoch {epoch+1} of {epochs}\")\n",
    "    train_epoch_loss = fit(model, train_loader)\n",
    "    val_epoch_loss = validate(model, val_loader)\n",
    "    train_loss.append(train_epoch_loss)\n",
    "    val_loss.append(val_epoch_loss)\n",
    "    print(f\"Train Loss: {train_epoch_loss:.4f}\")\n",
    "    print(f\"Val Loss: {val_epoch_loss:.4f}\")"
   ]
  },
  {
   "cell_type": "markdown",
   "id": "f445f605-1d1a-44f9-9ebf-bfb4f25f169c",
   "metadata": {},
   "source": [
    "Dans le fichier output, on peut voir les différentes images générées en fonction de l'image initiale"
   ]
  },
  {
   "cell_type": "code",
   "execution_count": null,
   "id": "99893f22-6719-438e-82b0-8759776697e0",
   "metadata": {},
   "outputs": [],
   "source": []
  }
 ],
 "metadata": {
  "kernelspec": {
   "display_name": "Python 3 (ipykernel)",
   "language": "python",
   "name": "python3"
  },
  "language_info": {
   "codemirror_mode": {
    "name": "ipython",
    "version": 3
   },
   "file_extension": ".py",
   "mimetype": "text/x-python",
   "name": "python",
   "nbconvert_exporter": "python",
   "pygments_lexer": "ipython3",
   "version": "3.10.6"
  }
 },
 "nbformat": 4,
 "nbformat_minor": 5
}
